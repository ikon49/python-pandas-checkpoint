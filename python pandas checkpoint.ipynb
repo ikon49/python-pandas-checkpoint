{
 "cells": [
  {
   "cell_type": "code",
   "execution_count": 1,
   "metadata": {},
   "outputs": [
    {
     "name": "stdout",
     "output_type": "stream",
     "text": [
      "First three rows of the DataFrame:\n",
      "        name  score  attempts qualify\n",
      "a  Anastasia   12.5         1     yes\n",
      "b       Dima    9.0         3      no\n",
      "c  Katherine   16.5         2     yes\n"
     ]
    }
   ],
   "source": [
    "import pandas as pd\n",
    "import numpy as np\n",
    "\n",
    "# Given dictionary data\n",
    "exam_data = {\n",
    "    'name': ['Anastasia', 'Dima', 'Katherine', 'James', 'Emily', 'Michael', 'Matthew', 'Laura', 'Kevin', 'Jonas'],\n",
    "    'score': [12.5, 9, 16.5, np.nan, 9, 20, 14.5, np.nan, 8, 19],\n",
    "    'attempts': [1, 3, 2, 3, 2, 3, 1, 1, 2, 1],\n",
    "    'qualify': ['yes', 'no', 'yes', 'no', 'no', 'yes', 'yes', 'no', 'no', 'yes']\n",
    "}\n",
    "\n",
    "labels = ['a', 'b', 'c', 'd', 'e', 'f', 'g', 'h', 'i', 'j']\n",
    "\n",
    "# Create DataFrame\n",
    "df = pd.DataFrame(exam_data, index=labels)\n",
    "\n",
    "# Print the first three rows using the head() method\n",
    "print(\"First three rows of the DataFrame:\")\n",
    "print(df.head(3))\n"
   ]
  },
  {
   "cell_type": "code",
   "execution_count": 54,
   "metadata": {},
   "outputs": [
    {
     "name": "stdout",
     "output_type": "stream",
     "text": [
      "DataFrame after deleting rows with NaN values:\n",
      "        name  score  attempts qualify\n",
      "a  Anastasia   12.5         1     yes\n",
      "b       Dima    9.0         3      no\n",
      "c  Katherine   16.5         2     yes\n",
      "e      Emily    9.0         2      no\n",
      "f    Michael   20.0         3     yes\n",
      "g    Matthew   14.5         1     yes\n",
      "i      Kevin    8.0         2      no\n",
      "j      Jonas   19.0         1     yes\n"
     ]
    }
   ],
   "source": [
    "# Delete rows with NaN values\n",
    "df_cleaned = df.dropna()\n",
    "\n",
    "# Display the DataFrame after deleting rows with NaN values\n",
    "print(\"DataFrame after deleting rows with NaN values:\")\n",
    "print(df_cleaned)"
   ]
  },
  {
   "cell_type": "code",
   "execution_count": 55,
   "metadata": {},
   "outputs": [
    {
     "name": "stdout",
     "output_type": "stream",
     "text": [
      "Extracted 'name' and 'score' columns:\n",
      "        name  score\n",
      "a  Anastasia   12.5\n",
      "b       Dima    9.0\n",
      "c  Katherine   16.5\n",
      "e      Emily    9.0\n",
      "f    Michael   20.0\n",
      "g    Matthew   14.5\n",
      "i      Kevin    8.0\n",
      "j      Jonas   19.0\n"
     ]
    }
   ],
   "source": [
    "# Extract the 'name' and 'score' columns\n",
    "name_score_df = df_cleaned[['name', 'score']]\n",
    "\n",
    "# Display the extracted DataFrame\n",
    "print(\"Extracted 'name' and 'score' columns:\")\n",
    "print(name_score_df)"
   ]
  },
  {
   "cell_type": "code",
   "execution_count": 57,
   "metadata": {},
   "outputs": [
    {
     "name": "stdout",
     "output_type": "stream",
     "text": [
      "DataFrame before deleting 'attempts' column:\n",
      "        name  score  attempts qualify\n",
      "a  Anastasia   12.5         1     yes\n",
      "b       Dima    9.0         3      no\n",
      "c  Katherine   16.5         2     yes\n",
      "d      James    NaN         3      no\n",
      "e      Emily    9.0         2      no\n",
      "f    Michael   20.0         3     yes\n",
      "g    Matthew   14.5         1     yes\n",
      "h      Laura    NaN         1      no\n",
      "i      Kevin    8.0         2      no\n",
      "j      Jonas   19.0         1     yes\n",
      "\n",
      "DataFrame after deleting 'attempts' column:\n",
      "        name  score qualify\n",
      "a  Anastasia   12.5     yes\n",
      "b       Dima    9.0      no\n",
      "c  Katherine   16.5     yes\n",
      "d      James    NaN      no\n",
      "e      Emily    9.0      no\n",
      "f    Michael   20.0     yes\n",
      "g    Matthew   14.5     yes\n",
      "h      Laura    NaN      no\n",
      "i      Kevin    8.0      no\n",
      "j      Jonas   19.0     yes\n"
     ]
    }
   ],
   "source": [
    "# Display the DataFrame before deleting the 'attempts' column\n",
    "print(\"DataFrame before deleting 'attempts' column:\")\n",
    "print(df)\n",
    "\n",
    "# Delete the 'attempts' column from the DataFrame\n",
    "df = df.drop('attempts', axis=1)\n",
    "\n",
    "# Display the DataFrame after deleting the 'attempts' column\n",
    "print(\"\\nDataFrame after deleting 'attempts' column:\")\n",
    "print(df)"
   ]
  },
  {
   "cell_type": "code",
   "execution_count": 8,
   "metadata": {},
   "outputs": [
    {
     "name": "stdout",
     "output_type": "stream",
     "text": [
      "DataFrame after appending a new row 'k':\n",
      "        name  score  attempts qualify\n",
      "a  Anastasia   12.5         1     yes\n",
      "b       Dima    9.0         3      no\n",
      "c  Katherine   16.5         2     yes\n",
      "d      James    NaN         3      no\n",
      "e      Emily    9.0         2      no\n",
      "f    Michael   20.0         3     yes\n",
      "g    Matthew   14.5         1     yes\n",
      "h      Laura    NaN         1      no\n",
      "i      Kevin    8.0         2      no\n",
      "j      Jonas   19.0         1     yes\n",
      "k     Suresh   15.5         1     yes\n"
     ]
    }
   ],
   "source": [
    "import pandas as pd\n",
    "import numpy as np\n",
    "\n",
    "# Given dictionary data\n",
    "exam_data = {\n",
    "    'name': ['Anastasia', 'Dima', 'Katherine', 'James', 'Emily', 'Michael', 'Matthew', 'Laura', 'Kevin', 'Jonas'],\n",
    "    'score': [12.5, 9, 16.5, np.nan, 9, 20, 14.5, np.nan, 8, 19],\n",
    "    'attempts': [1, 3, 2, 3, 2, 3, 1, 1, 2, 1],\n",
    "    'qualify': ['yes', 'no', 'yes', 'no', 'no', 'yes', 'yes', 'no', 'no', 'yes']\n",
    "}\n",
    "\n",
    "labels = ['a', 'b', 'c', 'd', 'e', 'f', 'g', 'h', 'i', 'j']\n",
    "\n",
    "# Create DataFrame\n",
    "df = pd.DataFrame(exam_data, index=labels)\n",
    "\n",
    "# Append a new row 'k' to the DataFrame using loc\n",
    "df.loc['k'] = ['Suresh', 15.5, 1, 'yes']\n",
    "\n",
    "# Display the DataFrame after appending a new row 'k'\n",
    "print(\"DataFrame after appending a new row 'k':\")\n",
    "print(df)\n"
   ]
  },
  {
   "cell_type": "code",
   "execution_count": 58,
   "metadata": {},
   "outputs": [
    {
     "name": "stdout",
     "output_type": "stream",
     "text": [
      "DataFrame with 'Success' column added:\n",
      "        name  score qualify  Success\n",
      "a  Anastasia   12.5     yes        1\n",
      "b       Dima    9.0      no        0\n",
      "c  Katherine   16.5     yes        1\n",
      "d      James    NaN      no        0\n",
      "e      Emily    9.0      no        0\n",
      "f    Michael   20.0     yes        1\n",
      "g    Matthew   14.5     yes        1\n",
      "h      Laura    NaN      no        0\n",
      "i      Kevin    8.0      no        0\n",
      "j      Jonas   19.0     yes        1\n"
     ]
    }
   ],
   "source": [
    "# Add new column 'Success' based on score condition\n",
    "df['Success'] = np.where(df['score'] > 10, 1, 0)\n",
    "\n",
    "# Display the DataFrame with the new 'Success' column\n",
    "print(\"DataFrame with 'Success' column added:\")\n",
    "print(df)"
   ]
  },
  {
   "cell_type": "code",
   "execution_count": 59,
   "metadata": {},
   "outputs": [
    {
     "name": "stdout",
     "output_type": "stream",
     "text": [
      "Final DataFrame:\n",
      "        name  score qualify  Success\n",
      "a  Anastasia   12.5     yes        1\n",
      "b       Dima    9.0      no        0\n",
      "c  Katherine   16.5     yes        1\n",
      "d      James    NaN      no        0\n",
      "e      Emily    9.0      no        0\n",
      "f    Michael   20.0     yes        1\n",
      "g    Matthew   14.5     yes        1\n",
      "h      Laura    NaN      no        0\n",
      "i      Kevin    8.0      no        0\n",
      "j      Jonas   19.0     yes        1\n",
      "\n",
      "DataFrame exported to CSV file 'my_data.csv' successfully.\n"
     ]
    }
   ],
   "source": [
    "# Display the final DataFrame\n",
    "print(\"Final DataFrame:\")\n",
    "print(df)\n",
    "\n",
    "# Export DataFrame to CSV file\n",
    "df.to_csv('my_data.csv', index=False)\n",
    "print(\"\\nDataFrame exported to CSV file 'my_data.csv' successfully.\")"
   ]
  }
 ],
 "metadata": {
  "kernelspec": {
   "display_name": "Python 3 (ipykernel)",
   "language": "python",
   "name": "python3"
  },
  "language_info": {
   "codemirror_mode": {
    "name": "ipython",
    "version": 3
   },
   "file_extension": ".py",
   "mimetype": "text/x-python",
   "name": "python",
   "nbconvert_exporter": "python",
   "pygments_lexer": "ipython3",
   "version": "3.11.7"
  }
 },
 "nbformat": 4,
 "nbformat_minor": 4
}
